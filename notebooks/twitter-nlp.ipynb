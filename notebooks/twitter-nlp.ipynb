{
 "cells": [
  {
   "cell_type": "markdown",
   "id": "cf111c6c",
   "metadata": {
    "papermill": {
     "duration": 0.011634,
     "end_time": "2022-06-14T10:49:00.556421",
     "exception": false,
     "start_time": "2022-06-14T10:49:00.544787",
     "status": "completed"
    },
    "tags": []
   },
   "source": [
    "# Simple Sentiment Analysis using Tensorflow"
   ]
  },
  {
   "cell_type": "code",
   "execution_count": 1,
   "id": "a22b5ed4",
   "metadata": {
    "_cell_guid": "b1076dfc-b9ad-4769-8c92-a6c4dae69d19",
    "_uuid": "8f2839f25d086af736a60e9eeb907d3b93b6e0e5",
    "execution": {
     "iopub.execute_input": "2022-06-14T10:49:00.571667Z",
     "iopub.status.busy": "2022-06-14T10:49:00.571159Z",
     "iopub.status.idle": "2022-06-14T10:49:09.938255Z",
     "shell.execute_reply": "2022-06-14T10:49:09.936992Z"
    },
    "papermill": {
     "duration": 9.378104,
     "end_time": "2022-06-14T10:49:09.941268",
     "exception": false,
     "start_time": "2022-06-14T10:49:00.563164",
     "status": "completed"
    },
    "tags": []
   },
   "outputs": [],
   "source": [
    "import numpy as np\n",
    "import pandas as pd\n",
    "import tensorflow as tf\n",
    "import string\n",
    "import plotly.express as px\n",
    "from tensorflow.keras.preprocessing.text import Tokenizer\n",
    "from tensorflow.keras.preprocessing.sequence import pad_sequences"
   ]
  },
  {
   "cell_type": "code",
   "execution_count": 2,
   "id": "e8b04340",
   "metadata": {
    "execution": {
     "iopub.execute_input": "2022-06-14T10:49:09.956872Z",
     "iopub.status.busy": "2022-06-14T10:49:09.956323Z",
     "iopub.status.idle": "2022-06-14T10:49:09.961899Z",
     "shell.execute_reply": "2022-06-14T10:49:09.960769Z"
    },
    "papermill": {
     "duration": 0.015728,
     "end_time": "2022-06-14T10:49:09.963902",
     "exception": false,
     "start_time": "2022-06-14T10:49:09.948174",
     "status": "completed"
    },
    "tags": []
   },
   "outputs": [],
   "source": [
    "pd.set_option('display.max_rows', None)"
   ]
  },
  {
   "cell_type": "code",
   "execution_count": 3,
   "id": "66861346",
   "metadata": {
    "execution": {
     "iopub.execute_input": "2022-06-14T10:49:09.979643Z",
     "iopub.status.busy": "2022-06-14T10:49:09.978606Z",
     "iopub.status.idle": "2022-06-14T10:49:10.049707Z",
     "shell.execute_reply": "2022-06-14T10:49:10.048838Z"
    },
    "papermill": {
     "duration": 0.081809,
     "end_time": "2022-06-14T10:49:10.052358",
     "exception": false,
     "start_time": "2022-06-14T10:49:09.970549",
     "status": "completed"
    },
    "tags": []
   },
   "outputs": [],
   "source": [
    "raw_data = pd.read_csv('../input/nlp-getting-started/train.csv')"
   ]
  },
  {
   "cell_type": "code",
   "execution_count": 4,
   "id": "e978d3a4",
   "metadata": {
    "execution": {
     "iopub.execute_input": "2022-06-14T10:49:10.068495Z",
     "iopub.status.busy": "2022-06-14T10:49:10.067860Z",
     "iopub.status.idle": "2022-06-14T10:49:10.079229Z",
     "shell.execute_reply": "2022-06-14T10:49:10.078184Z"
    },
    "papermill": {
     "duration": 0.022413,
     "end_time": "2022-06-14T10:49:10.081596",
     "exception": false,
     "start_time": "2022-06-14T10:49:10.059183",
     "status": "completed"
    },
    "tags": []
   },
   "outputs": [
    {
     "data": {
      "text/plain": [
       "(7613, 5)"
      ]
     },
     "execution_count": 4,
     "metadata": {},
     "output_type": "execute_result"
    }
   ],
   "source": [
    "y = raw_data.iloc[:, -1]\n",
    "raw_data.shape"
   ]
  },
  {
   "cell_type": "code",
   "execution_count": 5,
   "id": "52983c90",
   "metadata": {
    "execution": {
     "iopub.execute_input": "2022-06-14T10:49:10.098273Z",
     "iopub.status.busy": "2022-06-14T10:49:10.097453Z",
     "iopub.status.idle": "2022-06-14T10:49:10.115162Z",
     "shell.execute_reply": "2022-06-14T10:49:10.114327Z"
    },
    "papermill": {
     "duration": 0.028368,
     "end_time": "2022-06-14T10:49:10.117076",
     "exception": false,
     "start_time": "2022-06-14T10:49:10.088708",
     "status": "completed"
    },
    "tags": []
   },
   "outputs": [
    {
     "data": {
      "text/html": [
       "<div>\n",
       "<style scoped>\n",
       "    .dataframe tbody tr th:only-of-type {\n",
       "        vertical-align: middle;\n",
       "    }\n",
       "\n",
       "    .dataframe tbody tr th {\n",
       "        vertical-align: top;\n",
       "    }\n",
       "\n",
       "    .dataframe thead th {\n",
       "        text-align: right;\n",
       "    }\n",
       "</style>\n",
       "<table border=\"1\" class=\"dataframe\">\n",
       "  <thead>\n",
       "    <tr style=\"text-align: right;\">\n",
       "      <th></th>\n",
       "      <th>id</th>\n",
       "      <th>keyword</th>\n",
       "      <th>location</th>\n",
       "      <th>text</th>\n",
       "      <th>target</th>\n",
       "    </tr>\n",
       "  </thead>\n",
       "  <tbody>\n",
       "    <tr>\n",
       "      <th>0</th>\n",
       "      <td>1</td>\n",
       "      <td>NaN</td>\n",
       "      <td>NaN</td>\n",
       "      <td>Our Deeds are the Reason of this #earthquake M...</td>\n",
       "      <td>1</td>\n",
       "    </tr>\n",
       "    <tr>\n",
       "      <th>1</th>\n",
       "      <td>4</td>\n",
       "      <td>NaN</td>\n",
       "      <td>NaN</td>\n",
       "      <td>Forest fire near La Ronge Sask. Canada</td>\n",
       "      <td>1</td>\n",
       "    </tr>\n",
       "    <tr>\n",
       "      <th>2</th>\n",
       "      <td>5</td>\n",
       "      <td>NaN</td>\n",
       "      <td>NaN</td>\n",
       "      <td>All residents asked to 'shelter in place' are ...</td>\n",
       "      <td>1</td>\n",
       "    </tr>\n",
       "    <tr>\n",
       "      <th>3</th>\n",
       "      <td>6</td>\n",
       "      <td>NaN</td>\n",
       "      <td>NaN</td>\n",
       "      <td>13,000 people receive #wildfires evacuation or...</td>\n",
       "      <td>1</td>\n",
       "    </tr>\n",
       "    <tr>\n",
       "      <th>4</th>\n",
       "      <td>7</td>\n",
       "      <td>NaN</td>\n",
       "      <td>NaN</td>\n",
       "      <td>Just got sent this photo from Ruby #Alaska as ...</td>\n",
       "      <td>1</td>\n",
       "    </tr>\n",
       "  </tbody>\n",
       "</table>\n",
       "</div>"
      ],
      "text/plain": [
       "   id keyword location                                               text  \\\n",
       "0   1     NaN      NaN  Our Deeds are the Reason of this #earthquake M...   \n",
       "1   4     NaN      NaN             Forest fire near La Ronge Sask. Canada   \n",
       "2   5     NaN      NaN  All residents asked to 'shelter in place' are ...   \n",
       "3   6     NaN      NaN  13,000 people receive #wildfires evacuation or...   \n",
       "4   7     NaN      NaN  Just got sent this photo from Ruby #Alaska as ...   \n",
       "\n",
       "   target  \n",
       "0       1  \n",
       "1       1  \n",
       "2       1  \n",
       "3       1  \n",
       "4       1  "
      ]
     },
     "execution_count": 5,
     "metadata": {},
     "output_type": "execute_result"
    }
   ],
   "source": [
    "raw_data.head()"
   ]
  },
  {
   "cell_type": "code",
   "execution_count": 6,
   "id": "25151408",
   "metadata": {
    "execution": {
     "iopub.execute_input": "2022-06-14T10:49:10.134197Z",
     "iopub.status.busy": "2022-06-14T10:49:10.133391Z",
     "iopub.status.idle": "2022-06-14T10:49:10.145188Z",
     "shell.execute_reply": "2022-06-14T10:49:10.144360Z"
    },
    "papermill": {
     "duration": 0.023131,
     "end_time": "2022-06-14T10:49:10.147600",
     "exception": false,
     "start_time": "2022-06-14T10:49:10.124469",
     "status": "completed"
    },
    "tags": []
   },
   "outputs": [
    {
     "data": {
      "text/plain": [
       "id             0\n",
       "keyword       61\n",
       "location    2533\n",
       "text           0\n",
       "target         0\n",
       "dtype: int64"
      ]
     },
     "execution_count": 6,
     "metadata": {},
     "output_type": "execute_result"
    }
   ],
   "source": [
    "raw_data.isnull().sum()"
   ]
  },
  {
   "cell_type": "code",
   "execution_count": 7,
   "id": "34ae8661",
   "metadata": {
    "execution": {
     "iopub.execute_input": "2022-06-14T10:49:10.164641Z",
     "iopub.status.busy": "2022-06-14T10:49:10.164177Z",
     "iopub.status.idle": "2022-06-14T10:49:10.177296Z",
     "shell.execute_reply": "2022-06-14T10:49:10.176382Z"
    },
    "papermill": {
     "duration": 0.023857,
     "end_time": "2022-06-14T10:49:10.179134",
     "exception": false,
     "start_time": "2022-06-14T10:49:10.155277",
     "status": "completed"
    },
    "tags": []
   },
   "outputs": [],
   "source": [
    "stopwords = [\"a\", \"about\", \"above\", \"after\", \"again\", \"against\", \"all\", \"am\", \"an\", \"and\", \"any\", \"are\", \"as\", \"at\",\n",
    "             \"be\", \"because\", \"been\", \"before\", \"being\", \"below\", \"between\", \"both\", \"but\", \"by\", \"could\", \"did\", \"do\",\n",
    "             \"does\", \"doing\", \"down\", \"during\", \"each\", \"few\", \"for\", \"from\", \"further\", \"had\", \"has\", \"have\", \"having\",\n",
    "             \"he\", \"hed\", \"hes\", \"her\", \"here\", \"heres\", \"hers\", \"herself\", \"him\", \"himself\", \"his\", \"how\",\n",
    "             \"hows\", \"i\", \"id\", \"ill\", \"im\", \"ive\", \"if\", \"in\", \"into\", \"is\", \"it\", \"its\", \"itself\",\n",
    "             \"lets\", \"me\", \"more\", \"most\", \"my\", \"myself\", \"nor\", \"of\", \"on\", \"once\", \"only\", \"or\", \"other\", \"ought\",\n",
    "             \"our\", \"ours\", \"ourselves\", \"out\", \"over\", \"own\", \"same\", \"she\", \"shed\", \"shell\", \"shes\", \"should\",\n",
    "             \"so\", \"some\", \"such\", \"than\", \"that\", \"thats\", \"the\", \"their\", \"theirs\", \"them\", \"themselves\", \"then\",\n",
    "             \"there\", \"theres\", \"these\", \"they\", \"theyd\", \"theyll\", \"theyre\", \"theyve\", \"this\", \"those\", \"through\",\n",
    "             \"to\", \"too\", \"under\", \"until\", \"up\", \"very\", \"was\", \"we\", \"wed\", \"well\", \"were\", \"weve\", \"were\",\n",
    "             \"what\", \"whats\", \"when\", \"whens\", \"where\", \"wheres\", \"which\", \"while\", \"who\", \"whos\", \"whom\", \"why\",\n",
    "             \"whys\", \"with\", \"would\", \"you\", \"youd\", \"youll\", \"youre\", \"youve\", \"your\", \"yours\", \"yourself\",\n",
    "             \"yourselves\"]\n",
    "\n",
    "table = str.maketrans('', '', string.punctuation)"
   ]
  },
  {
   "cell_type": "code",
   "execution_count": 8,
   "id": "2a69c392",
   "metadata": {
    "execution": {
     "iopub.execute_input": "2022-06-14T10:49:10.196346Z",
     "iopub.status.busy": "2022-06-14T10:49:10.195846Z",
     "iopub.status.idle": "2022-06-14T10:49:10.203003Z",
     "shell.execute_reply": "2022-06-14T10:49:10.201839Z"
    },
    "papermill": {
     "duration": 0.018748,
     "end_time": "2022-06-14T10:49:10.205351",
     "exception": false,
     "start_time": "2022-06-14T10:49:10.186603",
     "status": "completed"
    },
    "tags": []
   },
   "outputs": [],
   "source": [
    "def PreProcessing(df):\n",
    "    SENTENCE = []\n",
    "    for idx in df.index:\n",
    "        sentence = raw_data.iloc[idx, 3].lower()\n",
    "        words = sentence.split()\n",
    "        filtered_sentence = ''\n",
    "        for word in words:\n",
    "            word =word.translate(table)\n",
    "            if word not in stopwords:\n",
    "                filtered_sentence = filtered_sentence + word+' '\n",
    "        SENTENCE.append(filtered_sentence)\n",
    "    return SENTENCE"
   ]
  },
  {
   "cell_type": "code",
   "execution_count": 9,
   "id": "a8940da2",
   "metadata": {
    "execution": {
     "iopub.execute_input": "2022-06-14T10:49:10.222178Z",
     "iopub.status.busy": "2022-06-14T10:49:10.221669Z",
     "iopub.status.idle": "2022-06-14T10:49:10.228965Z",
     "shell.execute_reply": "2022-06-14T10:49:10.227829Z"
    },
    "papermill": {
     "duration": 0.018614,
     "end_time": "2022-06-14T10:49:10.231305",
     "exception": false,
     "start_time": "2022-06-14T10:49:10.212691",
     "status": "completed"
    },
    "tags": []
   },
   "outputs": [],
   "source": [
    "def TOKENIZATION(df, vocab_size=20000, max_length=10, trunc_type='post', padding_type='post', oov_tok = '<OOV>'):\n",
    "    SENTENCE = PreProcessing(df)\n",
    "    #print(SENTENCE)\n",
    "    tokenizer = Tokenizer(num_words=vocab_size, oov_token=oov_tok)\n",
    "    tokenizer.fit_on_texts(SENTENCE)\n",
    "    sequences = tokenizer.texts_to_sequences(SENTENCE)\n",
    "    word_index = tokenizer.word_index\n",
    "    training_padded = pad_sequences(sequences, maxlen=max_length, padding=padding_type, truncating=trunc_type)\n",
    "    return training_padded"
   ]
  },
  {
   "cell_type": "code",
   "execution_count": 10,
   "id": "972345ec",
   "metadata": {
    "execution": {
     "iopub.execute_input": "2022-06-14T10:49:10.248524Z",
     "iopub.status.busy": "2022-06-14T10:49:10.248013Z",
     "iopub.status.idle": "2022-06-14T10:49:11.226856Z",
     "shell.execute_reply": "2022-06-14T10:49:11.225611Z"
    },
    "papermill": {
     "duration": 0.990682,
     "end_time": "2022-06-14T10:49:11.229668",
     "exception": false,
     "start_time": "2022-06-14T10:49:10.238986",
     "status": "completed"
    },
    "tags": []
   },
   "outputs": [],
   "source": [
    "VOCAB_SIZE = 20000\n",
    "EMBD_DIM = 10\n",
    "x_train = TOKENIZATION(raw_data)\n",
    "y_train = raw_data.iloc[:, -1]"
   ]
  },
  {
   "cell_type": "code",
   "execution_count": 11,
   "id": "369c891c",
   "metadata": {
    "execution": {
     "iopub.execute_input": "2022-06-14T10:49:11.247265Z",
     "iopub.status.busy": "2022-06-14T10:49:11.246782Z",
     "iopub.status.idle": "2022-06-14T10:49:11.252775Z",
     "shell.execute_reply": "2022-06-14T10:49:11.251907Z"
    },
    "papermill": {
     "duration": 0.017542,
     "end_time": "2022-06-14T10:49:11.254689",
     "exception": false,
     "start_time": "2022-06-14T10:49:11.237147",
     "status": "completed"
    },
    "tags": []
   },
   "outputs": [
    {
     "data": {
      "text/plain": [
       "(7613, 10)"
      ]
     },
     "execution_count": 11,
     "metadata": {},
     "output_type": "execute_result"
    }
   ],
   "source": [
    "x_train.shape"
   ]
  },
  {
   "cell_type": "code",
   "execution_count": 12,
   "id": "2ab7c60c",
   "metadata": {
    "execution": {
     "iopub.execute_input": "2022-06-14T10:49:11.272150Z",
     "iopub.status.busy": "2022-06-14T10:49:11.271024Z",
     "iopub.status.idle": "2022-06-14T10:49:11.419224Z",
     "shell.execute_reply": "2022-06-14T10:49:11.418302Z"
    },
    "papermill": {
     "duration": 0.159909,
     "end_time": "2022-06-14T10:49:11.421877",
     "exception": false,
     "start_time": "2022-06-14T10:49:11.261968",
     "status": "completed"
    },
    "tags": []
   },
   "outputs": [
    {
     "name": "stderr",
     "output_type": "stream",
     "text": [
      "2022-06-14 10:49:11.321998: I tensorflow/core/common_runtime/process_util.cc:146] Creating new thread pool with default inter op setting: 2. Tune using inter_op_parallelism_threads for best performance.\n"
     ]
    }
   ],
   "source": [
    "model = tf.keras.Sequential([\n",
    "    tf.keras.layers.Embedding(VOCAB_SIZE, EMBD_DIM),\n",
    "    tf.keras.layers.GlobalAveragePooling1D(),\n",
    "    tf.keras.layers.Dense(24, activation='relu'),\n",
    "    tf.keras.layers.Dense(1, activation='sigmoid')\n",
    "])"
   ]
  },
  {
   "cell_type": "code",
   "execution_count": 13,
   "id": "b31d969c",
   "metadata": {
    "execution": {
     "iopub.execute_input": "2022-06-14T10:49:11.439257Z",
     "iopub.status.busy": "2022-06-14T10:49:11.438717Z",
     "iopub.status.idle": "2022-06-14T10:49:11.457107Z",
     "shell.execute_reply": "2022-06-14T10:49:11.455930Z"
    },
    "papermill": {
     "duration": 0.030448,
     "end_time": "2022-06-14T10:49:11.459793",
     "exception": false,
     "start_time": "2022-06-14T10:49:11.429345",
     "status": "completed"
    },
    "tags": []
   },
   "outputs": [],
   "source": [
    "model.compile(loss='binary_crossentropy', optimizer='adam', metrics=['accuracy'])"
   ]
  },
  {
   "cell_type": "code",
   "execution_count": 14,
   "id": "76149b85",
   "metadata": {
    "execution": {
     "iopub.execute_input": "2022-06-14T10:49:11.477001Z",
     "iopub.status.busy": "2022-06-14T10:49:11.476476Z",
     "iopub.status.idle": "2022-06-14T10:49:11.483404Z",
     "shell.execute_reply": "2022-06-14T10:49:11.482286Z"
    },
    "papermill": {
     "duration": 0.018987,
     "end_time": "2022-06-14T10:49:11.486448",
     "exception": false,
     "start_time": "2022-06-14T10:49:11.467461",
     "status": "completed"
    },
    "tags": []
   },
   "outputs": [
    {
     "name": "stdout",
     "output_type": "stream",
     "text": [
      "Model: \"sequential\"\n",
      "_________________________________________________________________\n",
      "Layer (type)                 Output Shape              Param #   \n",
      "=================================================================\n",
      "embedding (Embedding)        (None, None, 10)          200000    \n",
      "_________________________________________________________________\n",
      "global_average_pooling1d (Gl (None, 10)                0         \n",
      "_________________________________________________________________\n",
      "dense (Dense)                (None, 24)                264       \n",
      "_________________________________________________________________\n",
      "dense_1 (Dense)              (None, 1)                 25        \n",
      "=================================================================\n",
      "Total params: 200,289\n",
      "Trainable params: 200,289\n",
      "Non-trainable params: 0\n",
      "_________________________________________________________________\n"
     ]
    }
   ],
   "source": [
    "model.summary()"
   ]
  },
  {
   "cell_type": "code",
   "execution_count": 15,
   "id": "f398114a",
   "metadata": {
    "execution": {
     "iopub.execute_input": "2022-06-14T10:49:11.505183Z",
     "iopub.status.busy": "2022-06-14T10:49:11.504094Z",
     "iopub.status.idle": "2022-06-14T10:49:35.153067Z",
     "shell.execute_reply": "2022-06-14T10:49:35.151794Z"
    },
    "papermill": {
     "duration": 23.66077,
     "end_time": "2022-06-14T10:49:35.155807",
     "exception": false,
     "start_time": "2022-06-14T10:49:11.495037",
     "status": "completed"
    },
    "tags": []
   },
   "outputs": [
    {
     "name": "stderr",
     "output_type": "stream",
     "text": [
      "2022-06-14 10:49:11.626932: I tensorflow/compiler/mlir/mlir_graph_optimization_pass.cc:185] None of the MLIR Optimization Passes are enabled (registered 2)\n"
     ]
    },
    {
     "name": "stdout",
     "output_type": "stream",
     "text": [
      "Epoch 1/25\n",
      "191/191 [==============================] - 2s 6ms/step - loss: 0.6550 - accuracy: 0.6310 - val_loss: 0.6059 - val_accuracy: 0.7315\n",
      "Epoch 2/25\n",
      "191/191 [==============================] - 1s 4ms/step - loss: 0.4473 - accuracy: 0.8328 - val_loss: 0.4762 - val_accuracy: 0.7958\n",
      "Epoch 3/25\n",
      "191/191 [==============================] - 1s 5ms/step - loss: 0.2791 - accuracy: 0.8977 - val_loss: 0.4645 - val_accuracy: 0.7945\n",
      "Epoch 4/25\n",
      "191/191 [==============================] - 1s 5ms/step - loss: 0.1812 - accuracy: 0.9386 - val_loss: 0.4906 - val_accuracy: 0.7846\n",
      "Epoch 5/25\n",
      "191/191 [==============================] - 1s 5ms/step - loss: 0.1200 - accuracy: 0.9612 - val_loss: 0.5348 - val_accuracy: 0.7761\n",
      "Epoch 6/25\n",
      "191/191 [==============================] - 1s 7ms/step - loss: 0.0827 - accuracy: 0.9745 - val_loss: 0.5942 - val_accuracy: 0.7498\n",
      "Epoch 7/25\n",
      "191/191 [==============================] - 1s 4ms/step - loss: 0.0615 - accuracy: 0.9814 - val_loss: 0.6444 - val_accuracy: 0.7393\n",
      "Epoch 8/25\n",
      "191/191 [==============================] - 1s 4ms/step - loss: 0.0485 - accuracy: 0.9859 - val_loss: 0.6732 - val_accuracy: 0.7387\n",
      "Epoch 9/25\n",
      "191/191 [==============================] - 1s 5ms/step - loss: 0.0418 - accuracy: 0.9874 - val_loss: 0.7076 - val_accuracy: 0.7479\n",
      "Epoch 10/25\n",
      "191/191 [==============================] - 1s 5ms/step - loss: 0.0368 - accuracy: 0.9862 - val_loss: 0.7434 - val_accuracy: 0.7367\n",
      "Epoch 11/25\n",
      "191/191 [==============================] - 1s 4ms/step - loss: 0.0341 - accuracy: 0.9865 - val_loss: 0.7875 - val_accuracy: 0.7223\n",
      "Epoch 12/25\n",
      "191/191 [==============================] - 1s 5ms/step - loss: 0.0319 - accuracy: 0.9878 - val_loss: 0.8141 - val_accuracy: 0.7236\n",
      "Epoch 13/25\n",
      "191/191 [==============================] - 1s 4ms/step - loss: 0.0305 - accuracy: 0.9870 - val_loss: 0.8338 - val_accuracy: 0.7223\n",
      "Epoch 14/25\n",
      "191/191 [==============================] - 1s 5ms/step - loss: 0.0299 - accuracy: 0.9872 - val_loss: 0.8500 - val_accuracy: 0.7282\n",
      "Epoch 15/25\n",
      "191/191 [==============================] - 1s 4ms/step - loss: 0.0292 - accuracy: 0.9877 - val_loss: 0.8837 - val_accuracy: 0.7098\n",
      "Epoch 16/25\n",
      "191/191 [==============================] - 1s 4ms/step - loss: 0.0291 - accuracy: 0.9874 - val_loss: 0.8914 - val_accuracy: 0.7157\n",
      "Epoch 17/25\n",
      "191/191 [==============================] - 1s 4ms/step - loss: 0.0287 - accuracy: 0.9869 - val_loss: 0.9110 - val_accuracy: 0.7124\n",
      "Epoch 18/25\n",
      "191/191 [==============================] - 1s 4ms/step - loss: 0.0276 - accuracy: 0.9887 - val_loss: 0.9311 - val_accuracy: 0.7072\n",
      "Epoch 19/25\n",
      "191/191 [==============================] - 1s 5ms/step - loss: 0.0269 - accuracy: 0.9875 - val_loss: 0.9246 - val_accuracy: 0.7190\n",
      "Epoch 20/25\n",
      "191/191 [==============================] - 1s 5ms/step - loss: 0.0278 - accuracy: 0.9875 - val_loss: 0.9262 - val_accuracy: 0.7170\n",
      "Epoch 21/25\n",
      "191/191 [==============================] - 1s 5ms/step - loss: 0.0257 - accuracy: 0.9882 - val_loss: 0.9424 - val_accuracy: 0.7229\n",
      "Epoch 22/25\n",
      "191/191 [==============================] - 1s 5ms/step - loss: 0.0257 - accuracy: 0.9878 - val_loss: 0.9543 - val_accuracy: 0.7157\n",
      "Epoch 23/25\n",
      "191/191 [==============================] - 1s 5ms/step - loss: 0.0261 - accuracy: 0.9880 - val_loss: 0.9588 - val_accuracy: 0.7131\n",
      "Epoch 24/25\n",
      "191/191 [==============================] - 1s 5ms/step - loss: 0.0253 - accuracy: 0.9883 - val_loss: 0.9680 - val_accuracy: 0.7170\n",
      "Epoch 25/25\n",
      "191/191 [==============================] - 1s 5ms/step - loss: 0.0264 - accuracy: 0.9877 - val_loss: 0.9689 - val_accuracy: 0.7163\n"
     ]
    }
   ],
   "source": [
    "history = model.fit(x_train, y_train, epochs=25, validation_split=0.2)"
   ]
  },
  {
   "cell_type": "code",
   "execution_count": 16,
   "id": "653a160c",
   "metadata": {
    "execution": {
     "iopub.execute_input": "2022-06-14T10:49:35.234274Z",
     "iopub.status.busy": "2022-06-14T10:49:35.233085Z",
     "iopub.status.idle": "2022-06-14T10:49:35.239784Z",
     "shell.execute_reply": "2022-06-14T10:49:35.238873Z"
    },
    "papermill": {
     "duration": 0.047927,
     "end_time": "2022-06-14T10:49:35.242068",
     "exception": false,
     "start_time": "2022-06-14T10:49:35.194141",
     "status": "completed"
    },
    "tags": []
   },
   "outputs": [],
   "source": [
    "hist_df = history.history\n",
    "hist_df = pd.DataFrame(hist_df)"
   ]
  },
  {
   "cell_type": "code",
   "execution_count": 17,
   "id": "5becfc23",
   "metadata": {
    "execution": {
     "iopub.execute_input": "2022-06-14T10:49:35.321816Z",
     "iopub.status.busy": "2022-06-14T10:49:35.320523Z",
     "iopub.status.idle": "2022-06-14T10:49:36.650785Z",
     "shell.execute_reply": "2022-06-14T10:49:36.649825Z"
    },
    "papermill": {
     "duration": 1.373862,
     "end_time": "2022-06-14T10:49:36.653946",
     "exception": false,
     "start_time": "2022-06-14T10:49:35.280084",
     "status": "completed"
    },
    "tags": []
   },
   "outputs": [
    {
     "data": {
      "text/html": [
       "        <script type=\"text/javascript\">\n",
       "        window.PlotlyConfig = {MathJaxConfig: 'local'};\n",
       "        if (window.MathJax && window.MathJax.Hub && window.MathJax.Hub.Config) {window.MathJax.Hub.Config({SVG: {font: \"STIX-Web\"}});}\n",
       "        if (typeof require !== 'undefined') {\n",
       "        require.undef(\"plotly\");\n",
       "        requirejs.config({\n",
       "            paths: {\n",
       "                'plotly': ['https://cdn.plot.ly/plotly-2.12.1.min']\n",
       "            }\n",
       "        });\n",
       "        require(['plotly'], function(Plotly) {\n",
       "            window._Plotly = Plotly;\n",
       "        });\n",
       "        }\n",
       "        </script>\n",
       "        "
      ]
     },
     "metadata": {},
     "output_type": "display_data"
    },
    {
     "data": {
      "text/html": [
       "<div>                            <div id=\"ed9b3b86-46c1-4dd0-9a9c-aeb94eeb2d85\" class=\"plotly-graph-div\" style=\"height:525px; width:1200px;\"></div>            <script type=\"text/javascript\">                require([\"plotly\"], function(Plotly) {                    window.PLOTLYENV=window.PLOTLYENV || {};                                    if (document.getElementById(\"ed9b3b86-46c1-4dd0-9a9c-aeb94eeb2d85\")) {                    Plotly.newPlot(                        \"ed9b3b86-46c1-4dd0-9a9c-aeb94eeb2d85\",                        [{\"hovertemplate\":\"variable=loss<br>index=%{x}<br>value=%{y}<extra></extra>\",\"legendgroup\":\"loss\",\"line\":{\"color\":\"#636efa\",\"dash\":\"solid\"},\"marker\":{\"symbol\":\"circle\"},\"mode\":\"lines\",\"name\":\"loss\",\"orientation\":\"v\",\"showlegend\":true,\"x\":[0,1,2,3,4,5,6,7,8,9,10,11,12,13,14,15,16,17,18,19,20,21,22,23,24],\"xaxis\":\"x\",\"y\":[0.6549833416938782,0.4473413825035095,0.2790754735469818,0.1812114119529724,0.11997705698013306,0.08265972882509232,0.061549484729766846,0.04845927283167839,0.04176342859864235,0.03682496398687363,0.03409947454929352,0.03188120946288109,0.030507409945130348,0.02994566597044468,0.029236067086458206,0.029105480760335922,0.028668610379099846,0.027585959061980247,0.026947151869535446,0.02779233269393444,0.025663984939455986,0.0257318913936615,0.02610396221280098,0.025291524827480316,0.026429759338498116],\"yaxis\":\"y\",\"type\":\"scatter\"},{\"hovertemplate\":\"variable=accuracy<br>index=%{x}<br>value=%{y}<extra></extra>\",\"legendgroup\":\"accuracy\",\"line\":{\"color\":\"#EF553B\",\"dash\":\"solid\"},\"marker\":{\"symbol\":\"circle\"},\"mode\":\"lines\",\"name\":\"accuracy\",\"orientation\":\"v\",\"showlegend\":true,\"x\":[0,1,2,3,4,5,6,7,8,9,10,11,12,13,14,15,16,17,18,19,20,21,22,23,24],\"xaxis\":\"x\",\"y\":[0.6310344934463501,0.8328407406806946,0.8977011442184448,0.9385878443717957,0.9612479209899902,0.9745484590530396,0.9814450144767761,0.9858784675598145,0.9873563051223755,0.9862068891525269,0.9865353107452393,0.9878489375114441,0.9870279431343079,0.9871920943260193,0.9876847267150879,0.9873563051223755,0.9868637323379517,0.9886699318885803,0.9875205159187317,0.9875205159187317,0.9881773591041565,0.9878489375114441,0.9880131483078003,0.9883415699005127,0.9876847267150879],\"yaxis\":\"y\",\"type\":\"scatter\"},{\"hovertemplate\":\"variable=val_loss<br>index=%{x}<br>value=%{y}<extra></extra>\",\"legendgroup\":\"val_loss\",\"line\":{\"color\":\"#00cc96\",\"dash\":\"solid\"},\"marker\":{\"symbol\":\"circle\"},\"mode\":\"lines\",\"name\":\"val_loss\",\"orientation\":\"v\",\"showlegend\":true,\"x\":[0,1,2,3,4,5,6,7,8,9,10,11,12,13,14,15,16,17,18,19,20,21,22,23,24],\"xaxis\":\"x\",\"y\":[0.6058983206748962,0.4761848747730255,0.4645490348339081,0.4905768632888794,0.5348212122917175,0.5942186117172241,0.6443886756896973,0.6731935739517212,0.7075892090797424,0.7433882355690002,0.7875041961669922,0.8141461610794067,0.8338031768798828,0.8500214219093323,0.8837485909461975,0.8913583159446716,0.9109922051429749,0.93106609582901,0.9246444702148438,0.9262310862541199,0.9423916339874268,0.9543449878692627,0.9587714076042175,0.9680178165435791,0.9689140915870667],\"yaxis\":\"y\",\"type\":\"scatter\"},{\"hovertemplate\":\"variable=val_accuracy<br>index=%{x}<br>value=%{y}<extra></extra>\",\"legendgroup\":\"val_accuracy\",\"line\":{\"color\":\"#ab63fa\",\"dash\":\"solid\"},\"marker\":{\"symbol\":\"circle\"},\"mode\":\"lines\",\"name\":\"val_accuracy\",\"orientation\":\"v\",\"showlegend\":true,\"x\":[0,1,2,3,4,5,6,7,8,9,10,11,12,13,14,15,16,17,18,19,20,21,22,23,24],\"xaxis\":\"x\",\"y\":[0.7314510941505432,0.7957977652549744,0.794484555721283,0.784635603427887,0.7760998010635376,0.7498358488082886,0.7393302917480469,0.7386736869812012,0.7478660345077515,0.7367038726806641,0.7222586870193481,0.7235718965530396,0.7222586870193481,0.7281680703163147,0.7097833156585693,0.7156926989555359,0.7124097347259521,0.7071569561958313,0.7189757227897644,0.7170059084892273,0.7229152917861938,0.7156926989555359,0.7130663394927979,0.7170059084892273,0.7163493037223816],\"yaxis\":\"y\",\"type\":\"scatter\"}],                        {\"template\":{\"data\":{\"barpolar\":[{\"marker\":{\"line\":{\"color\":\"rgb(17,17,17)\",\"width\":0.5},\"pattern\":{\"fillmode\":\"overlay\",\"size\":10,\"solidity\":0.2}},\"type\":\"barpolar\"}],\"bar\":[{\"error_x\":{\"color\":\"#f2f5fa\"},\"error_y\":{\"color\":\"#f2f5fa\"},\"marker\":{\"line\":{\"color\":\"rgb(17,17,17)\",\"width\":0.5},\"pattern\":{\"fillmode\":\"overlay\",\"size\":10,\"solidity\":0.2}},\"type\":\"bar\"}],\"carpet\":[{\"aaxis\":{\"endlinecolor\":\"#A2B1C6\",\"gridcolor\":\"#506784\",\"linecolor\":\"#506784\",\"minorgridcolor\":\"#506784\",\"startlinecolor\":\"#A2B1C6\"},\"baxis\":{\"endlinecolor\":\"#A2B1C6\",\"gridcolor\":\"#506784\",\"linecolor\":\"#506784\",\"minorgridcolor\":\"#506784\",\"startlinecolor\":\"#A2B1C6\"},\"type\":\"carpet\"}],\"choropleth\":[{\"colorbar\":{\"outlinewidth\":0,\"ticks\":\"\"},\"type\":\"choropleth\"}],\"contourcarpet\":[{\"colorbar\":{\"outlinewidth\":0,\"ticks\":\"\"},\"type\":\"contourcarpet\"}],\"contour\":[{\"colorbar\":{\"outlinewidth\":0,\"ticks\":\"\"},\"colorscale\":[[0.0,\"#0d0887\"],[0.1111111111111111,\"#46039f\"],[0.2222222222222222,\"#7201a8\"],[0.3333333333333333,\"#9c179e\"],[0.4444444444444444,\"#bd3786\"],[0.5555555555555556,\"#d8576b\"],[0.6666666666666666,\"#ed7953\"],[0.7777777777777778,\"#fb9f3a\"],[0.8888888888888888,\"#fdca26\"],[1.0,\"#f0f921\"]],\"type\":\"contour\"}],\"heatmapgl\":[{\"colorbar\":{\"outlinewidth\":0,\"ticks\":\"\"},\"colorscale\":[[0.0,\"#0d0887\"],[0.1111111111111111,\"#46039f\"],[0.2222222222222222,\"#7201a8\"],[0.3333333333333333,\"#9c179e\"],[0.4444444444444444,\"#bd3786\"],[0.5555555555555556,\"#d8576b\"],[0.6666666666666666,\"#ed7953\"],[0.7777777777777778,\"#fb9f3a\"],[0.8888888888888888,\"#fdca26\"],[1.0,\"#f0f921\"]],\"type\":\"heatmapgl\"}],\"heatmap\":[{\"colorbar\":{\"outlinewidth\":0,\"ticks\":\"\"},\"colorscale\":[[0.0,\"#0d0887\"],[0.1111111111111111,\"#46039f\"],[0.2222222222222222,\"#7201a8\"],[0.3333333333333333,\"#9c179e\"],[0.4444444444444444,\"#bd3786\"],[0.5555555555555556,\"#d8576b\"],[0.6666666666666666,\"#ed7953\"],[0.7777777777777778,\"#fb9f3a\"],[0.8888888888888888,\"#fdca26\"],[1.0,\"#f0f921\"]],\"type\":\"heatmap\"}],\"histogram2dcontour\":[{\"colorbar\":{\"outlinewidth\":0,\"ticks\":\"\"},\"colorscale\":[[0.0,\"#0d0887\"],[0.1111111111111111,\"#46039f\"],[0.2222222222222222,\"#7201a8\"],[0.3333333333333333,\"#9c179e\"],[0.4444444444444444,\"#bd3786\"],[0.5555555555555556,\"#d8576b\"],[0.6666666666666666,\"#ed7953\"],[0.7777777777777778,\"#fb9f3a\"],[0.8888888888888888,\"#fdca26\"],[1.0,\"#f0f921\"]],\"type\":\"histogram2dcontour\"}],\"histogram2d\":[{\"colorbar\":{\"outlinewidth\":0,\"ticks\":\"\"},\"colorscale\":[[0.0,\"#0d0887\"],[0.1111111111111111,\"#46039f\"],[0.2222222222222222,\"#7201a8\"],[0.3333333333333333,\"#9c179e\"],[0.4444444444444444,\"#bd3786\"],[0.5555555555555556,\"#d8576b\"],[0.6666666666666666,\"#ed7953\"],[0.7777777777777778,\"#fb9f3a\"],[0.8888888888888888,\"#fdca26\"],[1.0,\"#f0f921\"]],\"type\":\"histogram2d\"}],\"histogram\":[{\"marker\":{\"pattern\":{\"fillmode\":\"overlay\",\"size\":10,\"solidity\":0.2}},\"type\":\"histogram\"}],\"mesh3d\":[{\"colorbar\":{\"outlinewidth\":0,\"ticks\":\"\"},\"type\":\"mesh3d\"}],\"parcoords\":[{\"line\":{\"colorbar\":{\"outlinewidth\":0,\"ticks\":\"\"}},\"type\":\"parcoords\"}],\"pie\":[{\"automargin\":true,\"type\":\"pie\"}],\"scatter3d\":[{\"line\":{\"colorbar\":{\"outlinewidth\":0,\"ticks\":\"\"}},\"marker\":{\"colorbar\":{\"outlinewidth\":0,\"ticks\":\"\"}},\"type\":\"scatter3d\"}],\"scattercarpet\":[{\"marker\":{\"colorbar\":{\"outlinewidth\":0,\"ticks\":\"\"}},\"type\":\"scattercarpet\"}],\"scattergeo\":[{\"marker\":{\"colorbar\":{\"outlinewidth\":0,\"ticks\":\"\"}},\"type\":\"scattergeo\"}],\"scattergl\":[{\"marker\":{\"line\":{\"color\":\"#283442\"}},\"type\":\"scattergl\"}],\"scattermapbox\":[{\"marker\":{\"colorbar\":{\"outlinewidth\":0,\"ticks\":\"\"}},\"type\":\"scattermapbox\"}],\"scatterpolargl\":[{\"marker\":{\"colorbar\":{\"outlinewidth\":0,\"ticks\":\"\"}},\"type\":\"scatterpolargl\"}],\"scatterpolar\":[{\"marker\":{\"colorbar\":{\"outlinewidth\":0,\"ticks\":\"\"}},\"type\":\"scatterpolar\"}],\"scatter\":[{\"marker\":{\"line\":{\"color\":\"#283442\"}},\"type\":\"scatter\"}],\"scatterternary\":[{\"marker\":{\"colorbar\":{\"outlinewidth\":0,\"ticks\":\"\"}},\"type\":\"scatterternary\"}],\"surface\":[{\"colorbar\":{\"outlinewidth\":0,\"ticks\":\"\"},\"colorscale\":[[0.0,\"#0d0887\"],[0.1111111111111111,\"#46039f\"],[0.2222222222222222,\"#7201a8\"],[0.3333333333333333,\"#9c179e\"],[0.4444444444444444,\"#bd3786\"],[0.5555555555555556,\"#d8576b\"],[0.6666666666666666,\"#ed7953\"],[0.7777777777777778,\"#fb9f3a\"],[0.8888888888888888,\"#fdca26\"],[1.0,\"#f0f921\"]],\"type\":\"surface\"}],\"table\":[{\"cells\":{\"fill\":{\"color\":\"#506784\"},\"line\":{\"color\":\"rgb(17,17,17)\"}},\"header\":{\"fill\":{\"color\":\"#2a3f5f\"},\"line\":{\"color\":\"rgb(17,17,17)\"}},\"type\":\"table\"}]},\"layout\":{\"annotationdefaults\":{\"arrowcolor\":\"#f2f5fa\",\"arrowhead\":0,\"arrowwidth\":1},\"autotypenumbers\":\"strict\",\"coloraxis\":{\"colorbar\":{\"outlinewidth\":0,\"ticks\":\"\"}},\"colorscale\":{\"diverging\":[[0,\"#8e0152\"],[0.1,\"#c51b7d\"],[0.2,\"#de77ae\"],[0.3,\"#f1b6da\"],[0.4,\"#fde0ef\"],[0.5,\"#f7f7f7\"],[0.6,\"#e6f5d0\"],[0.7,\"#b8e186\"],[0.8,\"#7fbc41\"],[0.9,\"#4d9221\"],[1,\"#276419\"]],\"sequential\":[[0.0,\"#0d0887\"],[0.1111111111111111,\"#46039f\"],[0.2222222222222222,\"#7201a8\"],[0.3333333333333333,\"#9c179e\"],[0.4444444444444444,\"#bd3786\"],[0.5555555555555556,\"#d8576b\"],[0.6666666666666666,\"#ed7953\"],[0.7777777777777778,\"#fb9f3a\"],[0.8888888888888888,\"#fdca26\"],[1.0,\"#f0f921\"]],\"sequentialminus\":[[0.0,\"#0d0887\"],[0.1111111111111111,\"#46039f\"],[0.2222222222222222,\"#7201a8\"],[0.3333333333333333,\"#9c179e\"],[0.4444444444444444,\"#bd3786\"],[0.5555555555555556,\"#d8576b\"],[0.6666666666666666,\"#ed7953\"],[0.7777777777777778,\"#fb9f3a\"],[0.8888888888888888,\"#fdca26\"],[1.0,\"#f0f921\"]]},\"colorway\":[\"#636efa\",\"#EF553B\",\"#00cc96\",\"#ab63fa\",\"#FFA15A\",\"#19d3f3\",\"#FF6692\",\"#B6E880\",\"#FF97FF\",\"#FECB52\"],\"font\":{\"color\":\"#f2f5fa\"},\"geo\":{\"bgcolor\":\"rgb(17,17,17)\",\"lakecolor\":\"rgb(17,17,17)\",\"landcolor\":\"rgb(17,17,17)\",\"showlakes\":true,\"showland\":true,\"subunitcolor\":\"#506784\"},\"hoverlabel\":{\"align\":\"left\"},\"hovermode\":\"closest\",\"mapbox\":{\"style\":\"dark\"},\"paper_bgcolor\":\"rgb(17,17,17)\",\"plot_bgcolor\":\"rgb(17,17,17)\",\"polar\":{\"angularaxis\":{\"gridcolor\":\"#506784\",\"linecolor\":\"#506784\",\"ticks\":\"\"},\"bgcolor\":\"rgb(17,17,17)\",\"radialaxis\":{\"gridcolor\":\"#506784\",\"linecolor\":\"#506784\",\"ticks\":\"\"}},\"scene\":{\"xaxis\":{\"backgroundcolor\":\"rgb(17,17,17)\",\"gridcolor\":\"#506784\",\"gridwidth\":2,\"linecolor\":\"#506784\",\"showbackground\":true,\"ticks\":\"\",\"zerolinecolor\":\"#C8D4E3\"},\"yaxis\":{\"backgroundcolor\":\"rgb(17,17,17)\",\"gridcolor\":\"#506784\",\"gridwidth\":2,\"linecolor\":\"#506784\",\"showbackground\":true,\"ticks\":\"\",\"zerolinecolor\":\"#C8D4E3\"},\"zaxis\":{\"backgroundcolor\":\"rgb(17,17,17)\",\"gridcolor\":\"#506784\",\"gridwidth\":2,\"linecolor\":\"#506784\",\"showbackground\":true,\"ticks\":\"\",\"zerolinecolor\":\"#C8D4E3\"}},\"shapedefaults\":{\"line\":{\"color\":\"#f2f5fa\"}},\"sliderdefaults\":{\"bgcolor\":\"#C8D4E3\",\"bordercolor\":\"rgb(17,17,17)\",\"borderwidth\":1,\"tickwidth\":0},\"ternary\":{\"aaxis\":{\"gridcolor\":\"#506784\",\"linecolor\":\"#506784\",\"ticks\":\"\"},\"baxis\":{\"gridcolor\":\"#506784\",\"linecolor\":\"#506784\",\"ticks\":\"\"},\"bgcolor\":\"rgb(17,17,17)\",\"caxis\":{\"gridcolor\":\"#506784\",\"linecolor\":\"#506784\",\"ticks\":\"\"}},\"title\":{\"x\":0.05},\"updatemenudefaults\":{\"bgcolor\":\"#506784\",\"borderwidth\":0},\"xaxis\":{\"automargin\":true,\"gridcolor\":\"#283442\",\"linecolor\":\"#506784\",\"ticks\":\"\",\"title\":{\"standoff\":15},\"zerolinecolor\":\"#283442\",\"zerolinewidth\":2},\"yaxis\":{\"automargin\":true,\"gridcolor\":\"#283442\",\"linecolor\":\"#506784\",\"ticks\":\"\",\"title\":{\"standoff\":15},\"zerolinecolor\":\"#283442\",\"zerolinewidth\":2}}},\"xaxis\":{\"anchor\":\"y\",\"domain\":[0.0,1.0],\"title\":{\"text\":\"index\"}},\"yaxis\":{\"anchor\":\"x\",\"domain\":[0.0,1.0],\"title\":{\"text\":\"value\"}},\"legend\":{\"title\":{\"text\":\"variable\"},\"tracegroupgap\":0},\"margin\":{\"t\":60},\"width\":1200,\"title\":{\"text\":\"Metrics\"}},                        {\"responsive\": true}                    ).then(function(){\n",
       "                            \n",
       "var gd = document.getElementById('ed9b3b86-46c1-4dd0-9a9c-aeb94eeb2d85');\n",
       "var x = new MutationObserver(function (mutations, observer) {{\n",
       "        var display = window.getComputedStyle(gd).display;\n",
       "        if (!display || display === 'none') {{\n",
       "            console.log([gd, 'removed!']);\n",
       "            Plotly.purge(gd);\n",
       "            observer.disconnect();\n",
       "        }}\n",
       "}});\n",
       "\n",
       "// Listen for the removal of the full notebook cells\n",
       "var notebookContainer = gd.closest('#notebook-container');\n",
       "if (notebookContainer) {{\n",
       "    x.observe(notebookContainer, {childList: true});\n",
       "}}\n",
       "\n",
       "// Listen for the clearing of the current output cell\n",
       "var outputEl = gd.closest('.output');\n",
       "if (outputEl) {{\n",
       "    x.observe(outputEl, {childList: true});\n",
       "}}\n",
       "\n",
       "                        })                };                });            </script>        </div>"
      ]
     },
     "metadata": {},
     "output_type": "display_data"
    }
   ],
   "source": [
    "fig = px.line(hist_df)\n",
    "fig.update_layout(template='plotly_dark', width=1200, title='Metrics')\n",
    "fig.show()"
   ]
  },
  {
   "cell_type": "code",
   "execution_count": 18,
   "id": "9befd82f",
   "metadata": {
    "execution": {
     "iopub.execute_input": "2022-06-14T10:49:36.731465Z",
     "iopub.status.busy": "2022-06-14T10:49:36.730688Z",
     "iopub.status.idle": "2022-06-14T10:49:37.163177Z",
     "shell.execute_reply": "2022-06-14T10:49:37.162196Z"
    },
    "papermill": {
     "duration": 0.474277,
     "end_time": "2022-06-14T10:49:37.165687",
     "exception": false,
     "start_time": "2022-06-14T10:49:36.691410",
     "status": "completed"
    },
    "tags": []
   },
   "outputs": [],
   "source": [
    "test_df = pd.read_csv('../input/nlp-getting-started/test.csv')\n",
    "id_col = test_df.iloc[:, 0]\n",
    "x_test = TOKENIZATION(test_df)"
   ]
  },
  {
   "cell_type": "code",
   "execution_count": 19,
   "id": "3e4ba16a",
   "metadata": {
    "execution": {
     "iopub.execute_input": "2022-06-14T10:49:37.243513Z",
     "iopub.status.busy": "2022-06-14T10:49:37.242732Z",
     "iopub.status.idle": "2022-06-14T10:49:37.507405Z",
     "shell.execute_reply": "2022-06-14T10:49:37.506173Z"
    },
    "papermill": {
     "duration": 0.30674,
     "end_time": "2022-06-14T10:49:37.510113",
     "exception": false,
     "start_time": "2022-06-14T10:49:37.203373",
     "status": "completed"
    },
    "tags": []
   },
   "outputs": [],
   "source": [
    "pred = model.predict(x_test)\n",
    "pred = np.where(pred>=0.5, 1, 0)\n",
    "pred = pred.reshape(-1)"
   ]
  },
  {
   "cell_type": "code",
   "execution_count": 20,
   "id": "5a118b70",
   "metadata": {
    "execution": {
     "iopub.execute_input": "2022-06-14T10:49:37.589496Z",
     "iopub.status.busy": "2022-06-14T10:49:37.588337Z",
     "iopub.status.idle": "2022-06-14T10:49:37.604685Z",
     "shell.execute_reply": "2022-06-14T10:49:37.603691Z"
    },
    "papermill": {
     "duration": 0.058362,
     "end_time": "2022-06-14T10:49:37.607389",
     "exception": false,
     "start_time": "2022-06-14T10:49:37.549027",
     "status": "completed"
    },
    "tags": []
   },
   "outputs": [],
   "source": [
    "df = {'Id':id_col, 'target':pred}\n",
    "df = pd.DataFrame(df)\n",
    "df.to_csv('Submission.csv', index=False)"
   ]
  },
  {
   "cell_type": "markdown",
   "id": "7015e0be",
   "metadata": {
    "papermill": {
     "duration": 0.037281,
     "end_time": "2022-06-14T10:49:37.684260",
     "exception": false,
     "start_time": "2022-06-14T10:49:37.646979",
     "status": "completed"
    },
    "tags": []
   },
   "source": [
    "> Thank You"
   ]
  }
 ],
 "metadata": {
  "kernelspec": {
   "display_name": "Python 3",
   "language": "python",
   "name": "python3"
  },
  "language_info": {
   "codemirror_mode": {
    "name": "ipython",
    "version": 3
   },
   "file_extension": ".py",
   "mimetype": "text/x-python",
   "name": "python",
   "nbconvert_exporter": "python",
   "pygments_lexer": "ipython3",
   "version": "3.7.12"
  },
  "papermill": {
   "default_parameters": {},
   "duration": 50.776752,
   "end_time": "2022-06-14T10:49:40.421728",
   "environment_variables": {},
   "exception": null,
   "input_path": "__notebook__.ipynb",
   "output_path": "__notebook__.ipynb",
   "parameters": {},
   "start_time": "2022-06-14T10:48:49.644976",
   "version": "2.3.4"
  }
 },
 "nbformat": 4,
 "nbformat_minor": 5
}
